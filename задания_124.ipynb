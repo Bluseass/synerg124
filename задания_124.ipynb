{
  "nbformat": 4,
  "nbformat_minor": 0,
  "metadata": {
    "colab": {
      "provenance": [],
      "authorship_tag": "ABX9TyN6sws/Ho0cWajaNURmpOpo",
      "include_colab_link": true
    },
    "kernelspec": {
      "name": "python3",
      "display_name": "Python 3"
    },
    "language_info": {
      "name": "python"
    }
  },
  "cells": [
    {
      "cell_type": "markdown",
      "metadata": {
        "id": "view-in-github",
        "colab_type": "text"
      },
      "source": [
        "<a href=\"https://colab.research.google.com/github/Bluseass/synerg124/blob/main/%D0%B7%D0%B0%D0%B4%D0%B0%D0%BD%D0%B8%D1%8F_124.ipynb\" target=\"_parent\"><img src=\"https://colab.research.google.com/assets/colab-badge.svg\" alt=\"Open In Colab\"/></a>"
      ]
    },
    {
      "cell_type": "code",
      "execution_count": null,
      "metadata": {
        "id": "APeYGNPTbUUU"
      },
      "outputs": [],
      "source": [
        "%%writefile utils.py\n",
        "def multiply(a, b):\n",
        "    return a * b"
      ]
    },
    {
      "cell_type": "code",
      "source": [
        "# 1.переменные\n",
        "name = \"Степан\"\n",
        "age = 22\n",
        "height = 176\n",
        "print(\"Имя:\", name)\n",
        "print(\"Возраст:\", age)\n",
        "print(\"Рост:\", height)\n",
        "\n",
        "# 2.сумма двух чисел\n",
        "a = int(input(\"введите первое число: \"))\n",
        "b = int(input(\"введите второе число: \"))\n",
        "print(\"сумма:\", a + b)\n",
        "\n",
        "# 3.преобразование строки\n",
        "s = \"100\"\n",
        "result = int(s) + 50\n",
        "print(\"100 + 50 =\", result)\n",
        "\n",
        "# 4.чётное число\n",
        "num = int(input(\"введите число для проверки: \"))\n",
        "if num % 2 == 0:\n",
        "    print(\"Чётное\")\n",
        "else:\n",
        "    print(\"Нечётное\")\n",
        "\n",
        "# 5.замена слова в строке\n",
        "text = \"Я изучаю Python\"\n",
        "text = text.replace(\"Python\", \"программирование\")\n",
        "print(text)\n",
        "\n",
        "# 6.список и сумма\n",
        "numbers = [1, 2, 3, 4, 5]\n",
        "print(\"Сумма списка:\", sum(numbers))\n",
        "\n",
        "# 7.добавление элемента в список\n",
        "fruits = [\"яблоко\", \"банан\"]\n",
        "fruits.append(\"груша\")\n",
        "print(fruits)\n",
        "\n",
        "# 8.кортеж и ошибка\n",
        "tuple_example = (1, 2, 3)\n",
        "try:\n",
        "    tuple_example[0] = 100\n",
        "except TypeError as e:\n",
        "    print(\"Ошибка:\", e)\n",
        "\n",
        "# 9.словарь и вывод возраста\n",
        "person = {\"name\": \"Степан\", \"age\": 22, \"city\": \"Москва\"}\n",
        "print(\"Возраст:\", person[\"age\"])\n",
        "\n",
        "# 10. удаление ключа\n",
        "del person[\"city\"]\n",
        "print(\"Обновлённый словарь:\", person)\n",
        "\n",
        "# 11.проверка числа\n",
        "x = int(input(\"Введите число: \"))\n",
        "if x > 0:\n",
        "    print(\"Положительное\")\n",
        "elif x < 0:\n",
        "    print(\"Отрицательное\")\n",
        "else:\n",
        "    print(\"Ноль\")\n",
        "\n",
        "# 12.совершеннолетие\n",
        "age_check = int(input(\"Введите возраст: \"))\n",
        "if age_check >= 18:\n",
        "    print(\"Совершеннолетний\")\n",
        "else:\n",
        "    print(\"Несовершеннолетний\")\n",
        "\n",
        "# 13.числа от 1 до 10\n",
        "for i in range(1, 11):\n",
        "    print(i, end=\" \")\n",
        "print()\n",
        "\n",
        "# 14.таблица умножения 5\n",
        "for i in range(1, 11):\n",
        "    print(f\"5 * {i} = {5 * i}\")\n",
        "\n",
        "# 15.while от 10 до 1\n",
        "i = 10\n",
        "while i >= 1:\n",
        "    print(i, end=\" \")\n",
        "    i -= 1\n",
        "print()\n",
        "\n",
        "# 16.квадрат числа\n",
        "def square(n):\n",
        "    return n ** 2\n",
        "print(\"Квадрат 4:\", square(4))\n",
        "\n",
        "# 17.сумма двух чисел\n",
        "def add(x, y):\n",
        "    return x + y\n",
        "print(\"Сумма 3 и 7:\", add(3, 7))\n",
        "\n",
        "# 18.среднее значение\n",
        "def average(lst):\n",
        "    return sum(lst) / len(lst)\n",
        "print(\"Среднее:\", average([10, 20, 30]))\n",
        "\n",
        "# 19.math и sqrt\n",
        "import math\n",
        "print(\"Корень из 25:\", math.sqrt(25))"
      ],
      "metadata": {
        "id": "XHLJid_DbUph"
      },
      "execution_count": null,
      "outputs": []
    },
    {
      "cell_type": "code",
      "source": [
        "# 20.импорт модуля utils\n",
        "import utils\n",
        "print(\"Произведение 6 и 7:\", utils.multiply(6, 7))\n",
        "\n",
        "# 21.класс car\n",
        "class Car:\n",
        "    def __init__(self, brand, year):\n",
        "        self.brand = brand\n",
        "        self.year = year\n",
        "\n",
        "my_car = Car(\"Toyota\", 2020)\n",
        "print(\"Марка:\", my_car.brand)\n",
        "print(\"Год:\", my_car.year)\n",
        "\n",
        "# 22. метод info()\n",
        "class Car:\n",
        "    def __init__(self, brand, year):\n",
        "        self.brand = brand\n",
        "        self.year = year\n",
        "\n",
        "    def info(self):\n",
        "        print(f\"Марка: {self.brand}, Год: {self.year}\")\n",
        "\n",
        "my_car = Car(\"Honda\", 2018)\n",
        "my_car.info()\n",
        "\n",
        "# 23. класс BankAccount\n",
        "class BankAccount:\n",
        "    def __init__(self):\n",
        "        self.balance = 0\n",
        "\n",
        "    def deposit(self, amount):\n",
        "        self.balance += amount\n",
        "\n",
        "    def withdraw(self, amount):\n",
        "        if amount <= self.balance:\n",
        "            self.balance -= amount\n",
        "        else:\n",
        "            print(\"Недостаточно средств\")\n",
        "\n",
        "acc = BankAccount()\n",
        "acc.deposit(1000)\n",
        "acc.withdraw(300)\n",
        "print(\"Баланс:\", acc.balance)\n",
        "\n",
        "# 24. класс rectangle\n",
        "class Rectangle:\n",
        "    def __init__(self, width, height):\n",
        "        self.width = width\n",
        "        self.height = height\n",
        "\n",
        "    def area(self):\n",
        "        return self.width * self.height\n",
        "\n",
        "    def perimeter(self):\n",
        "        return 2 * (self.width + self.height)\n",
        "\n",
        "rect = Rectangle(5, 3)\n",
        "print(\"Площадь:\", rect.area())\n",
        "print(\"Периметр:\", rect.perimeter())"
      ],
      "metadata": {
        "id": "0TsFiq-zbUrv"
      },
      "execution_count": null,
      "outputs": []
    },
    {
      "cell_type": "markdown",
      "source": [
        "**задание 2**\n"
      ],
      "metadata": {
        "id": "Ma7ddOr7bbmt"
      }
    },
    {
      "cell_type": "code",
      "source": [
        "import torch\n",
        "import torch.nn as nn\n",
        "import torch.optim as optim\n",
        "import torchvision\n",
        "import torchvision.transforms as transforms\n",
        "import matplotlib.pyplot as plt\n",
        "import numpy as np"
      ],
      "metadata": {
        "id": "VUsyAyfNbUuH"
      },
      "execution_count": 1,
      "outputs": []
    },
    {
      "cell_type": "code",
      "source": [
        "# Гиперпараметры\n",
        "BATCH_SIZE = 64\n",
        "INPUT_SIZE = 28 * 28\n",
        "OUTPUT_SIZE = 10\n",
        "\n",
        "# Загрузка MNIST\n",
        "transform = transforms.ToTensor()\n",
        "train_dataset = torchvision.datasets.MNIST(root='./data', train=True, download=True, transform=transform)\n",
        "test_dataset = torchvision.datasets.MNIST(root='./data', train=False, download=True, transform=transform)\n",
        "train_loader = torch.utils.data.DataLoader(train_dataset, batch_size=BATCH_SIZE, shuffle=True)\n",
        "test_loader = torch.utils.data.DataLoader(test_dataset, batch_size=BATCH_SIZE, shuffle=False)"
      ],
      "metadata": {
        "id": "y_HbSYgOcbzI"
      },
      "execution_count": 13,
      "outputs": []
    },
    {
      "cell_type": "code",
      "source": [
        "import torch\n",
        "import torch.nn as nn\n",
        "import torch.optim as optim\n",
        "import pandas as pd\n",
        "\n",
        "# Пример простой модели\n",
        "class NeuralNet(nn.Module):\n",
        "    def __init__(self, input_size, hidden_size, output_size):\n",
        "        super(NeuralNet, self).__init__()\n",
        "        self.fc1 = nn.Linear(input_size, hidden_size)\n",
        "        self.relu = nn.ReLU()\n",
        "        self.fc2 = nn.Linear(hidden_size, output_size)\n",
        "\n",
        "    def forward(self, x):\n",
        "        x = x.view(x.size(0), -1)  # Разворачиваем изображение\n",
        "        x = self.fc1(x)\n",
        "        x = self.relu(x)\n",
        "        x = self.fc2(x)\n",
        "        return x\n",
        "\n",
        "# Размеры входа и выхода (пример для MNIST)\n",
        "INPUT_SIZE = 28 * 28\n",
        "OUTPUT_SIZE = 10\n",
        "\n",
        "# Функция экспериментов\n",
        "def run_experiments(model_class, input_size, output_size, train_loader, test_loader, experiments):\n",
        "    results = []\n",
        "\n",
        "    for i, params in enumerate(experiments):\n",
        "        print(f\"\\nЭксперимент {i+1}: {params}\")\n",
        "\n",
        "        model = model_class(input_size, params[\"HIDDEN_SIZE\"], output_size)\n",
        "        criterion = nn.CrossEntropyLoss()\n",
        "        optimizer = optim.SGD(model.parameters(), lr=params[\"LEARNING_RATE\"])\n",
        "\n",
        "        # Обучение\n",
        "        model.train()\n",
        "        for epoch in range(params[\"NUM_EPOCHS\"]):\n",
        "            for images, labels in train_loader:\n",
        "                outputs = model(images)\n",
        "                loss = criterion(outputs, labels)\n",
        "                optimizer.zero_grad()\n",
        "                loss.backward()\n",
        "                optimizer.step()\n",
        "\n",
        "        # Тестирование\n",
        "        model.eval()\n",
        "        correct = 0\n",
        "        total = 0\n",
        "        with torch.no_grad():\n",
        "            for images, labels in test_loader:\n",
        "                outputs = model(images)\n",
        "                _, predicted = torch.max(outputs.data, 1)\n",
        "                total += labels.size(0)\n",
        "                correct += (predicted == labels).sum().item()\n",
        "\n",
        "        accuracy = 100 * correct / total\n",
        "        print(f\"Точность: {accuracy:.2f}%\")\n",
        "\n",
        "        results.append({\n",
        "            \"HIDDEN_SIZE\": params[\"HIDDEN_SIZE\"],\n",
        "            \"NUM_EPOCHS\": params[\"NUM_EPOCHS\"],\n",
        "            \"LEARNING_RATE\": params[\"LEARNING_RATE\"],\n",
        "            \"accuracy\": accuracy,\n",
        "        })\n",
        "\n",
        "    df_results = pd.DataFrame(results)\n",
        "    print(\"\\nИтоги экспериментов:\")\n",
        "    print(df_results)\n",
        "    return df_results\n"
      ],
      "metadata": {
        "id": "aWVkFOBMbUwW"
      },
      "execution_count": 14,
      "outputs": []
    },
    {
      "cell_type": "code",
      "source": [
        "# Параметры\n",
        "experiments = [\n",
        "    {\"HIDDEN_SIZE\": 64, \"NUM_EPOCHS\": 3, \"LEARNING_RATE\": 0.01},\n",
        "    {\"HIDDEN_SIZE\": 128, \"NUM_EPOCHS\": 5, \"LEARNING_RATE\": 0.01},\n",
        "    {\"HIDDEN_SIZE\": 256, \"NUM_EPOCHS\": 5, \"LEARNING_RATE\": 0.005},\n",
        "    {\"HIDDEN_SIZE\": 128, \"NUM_EPOCHS\": 10, \"LEARNING_RATE\": 0.001},\n",
        "    {\"HIDDEN_SIZE\": 512, \"NUM_EPOCHS\": 5, \"LEARNING_RATE\": 0.02},\n",
        "]\n",
        "\n",
        "# Запуск\n",
        "df = run_experiments(NeuralNet, INPUT_SIZE, OUTPUT_SIZE, train_loader, test_loader, experiments)"
      ],
      "metadata": {
        "colab": {
          "base_uri": "https://localhost:8080/"
        },
        "id": "BCmUFU_CbUzK",
        "outputId": "d5b952e3-a39c-483b-c5c5-526d74359a81"
      },
      "execution_count": 15,
      "outputs": [
        {
          "output_type": "stream",
          "name": "stdout",
          "text": [
            "\n",
            "Эксперимент 1: {'HIDDEN_SIZE': 64, 'NUM_EPOCHS': 3, 'LEARNING_RATE': 0.01}\n",
            "Точность: 90.12%\n",
            "\n",
            "Эксперимент 2: {'HIDDEN_SIZE': 128, 'NUM_EPOCHS': 5, 'LEARNING_RATE': 0.01}\n",
            "Точность: 91.33%\n",
            "\n",
            "Эксперимент 3: {'HIDDEN_SIZE': 256, 'NUM_EPOCHS': 5, 'LEARNING_RATE': 0.005}\n",
            "Точность: 90.02%\n",
            "\n",
            "Эксперимент 4: {'HIDDEN_SIZE': 128, 'NUM_EPOCHS': 10, 'LEARNING_RATE': 0.001}\n",
            "Точность: 86.35%\n",
            "\n",
            "Эксперимент 5: {'HIDDEN_SIZE': 512, 'NUM_EPOCHS': 5, 'LEARNING_RATE': 0.02}\n",
            "Точность: 93.26%\n",
            "\n",
            "Итоги экспериментов:\n",
            "   HIDDEN_SIZE  NUM_EPOCHS  LEARNING_RATE  accuracy\n",
            "0           64           3          0.010     90.12\n",
            "1          128           5          0.010     91.33\n",
            "2          256           5          0.005     90.02\n",
            "3          128          10          0.001     86.35\n",
            "4          512           5          0.020     93.26\n"
          ]
        }
      ]
    },
    {
      "cell_type": "code",
      "source": [],
      "metadata": {
        "id": "wVF5dGXIbU1i"
      },
      "execution_count": null,
      "outputs": []
    },
    {
      "cell_type": "markdown",
      "source": [
        "**Задание 4**"
      ],
      "metadata": {
        "id": "5VzcT0ZJczIy"
      }
    },
    {
      "cell_type": "code",
      "source": [
        "import pandas as pd\n",
        "import numpy as np\n",
        "\n",
        "#загрузка\n",
        "df = pd.read_csv('dataset_lab4.csv')\n",
        "\n",
        "#первое задание\n",
        "print(\"1. Первые 7 строк:\")\n",
        "print(df.head(7))\n",
        "\n",
        "print(\"\\n2. Информация о типах данных и пропущенных значениях:\")\n",
        "print(df.info())\n",
        "print(df.isnull().sum())\n",
        "\n",
        "print(\"\\n3. Описательная статистика по числовым столбцам:\")\n",
        "print(df.describe())"
      ],
      "metadata": {
        "colab": {
          "base_uri": "https://localhost:8080/"
        },
        "id": "3IuhmB-IbU39",
        "outputId": "cd493951-65b1-439f-dcbb-1530d2286a39"
      },
      "execution_count": 17,
      "outputs": [
        {
          "output_type": "stream",
          "name": "stdout",
          "text": [
            "1. Первые 7 строк:\n",
            "   OrderID          FullName                  Email             Phone  \\\n",
            "0     5000  Александров И.И.  aleksandrov@gmail.com  +7-900-202-61-24   \n",
            "1     5001      Петрова А.С.      petrova@gmail.com  +7-900-206-81-70   \n",
            "2     5002       Иванов К.А.       ivanov@gmail.com  +7-900-120-92-96   \n",
            "3     5003      Сидоров Л.П.      sidorov@gmail.com  +7-900-430-84-97   \n",
            "4     5004    Кузнецова Е.Н.   kuznetsova@gmail.com  +7-900-472-33-12   \n",
            "5     5005      Смирнов Д.А.      smirnov@gmail.com  +7-900-761-62-11   \n",
            "6     5006      Фролова М.С.      frolova@gmail.com  +7-900-443-39-47   \n",
            "\n",
            "            Region          City Channel  Product  Quantity  UnitPrice  \\\n",
            "0  Санкт-Петербург        Казань  Офлайн  Товар D       3.0     194.94   \n",
            "1           Казань        Казань  Офлайн  Товар D       1.0     510.88   \n",
            "2           Казань        Москва  Офлайн      NaN       5.0     296.60   \n",
            "3           Казань  Екатеринбург  Онлайн  Товар A       7.0     474.86   \n",
            "4           Казань  Екатеринбург  Онлайн  Товар D       7.0     894.95   \n",
            "5     Екатеринбург           СПб  Онлайн  Товар C       9.0     391.91   \n",
            "6      Новосибирск  Екатеринбург  Онлайн  Товар C       3.0     209.88   \n",
            "\n",
            "    OrderDate  TotalAmount  \n",
            "0  2023-12-27       584.82  \n",
            "1  2023-12-22       510.88  \n",
            "2  2023-12-24      1483.00  \n",
            "3  2023-12-09      3324.02  \n",
            "4  2023-12-20      6264.65  \n",
            "5  2023-12-17          NaN  \n",
            "6  2023-12-30       629.64  \n",
            "\n",
            "2. Информация о типах данных и пропущенных значениях:\n",
            "<class 'pandas.core.frame.DataFrame'>\n",
            "RangeIndex: 20 entries, 0 to 19\n",
            "Data columns (total 12 columns):\n",
            " #   Column       Non-Null Count  Dtype  \n",
            "---  ------       --------------  -----  \n",
            " 0   OrderID      20 non-null     int64  \n",
            " 1   FullName     20 non-null     object \n",
            " 2   Email        20 non-null     object \n",
            " 3   Phone        20 non-null     object \n",
            " 4   Region       20 non-null     object \n",
            " 5   City         20 non-null     object \n",
            " 6   Channel      20 non-null     object \n",
            " 7   Product      19 non-null     object \n",
            " 8   Quantity     19 non-null     float64\n",
            " 9   UnitPrice    20 non-null     float64\n",
            " 10  OrderDate    20 non-null     object \n",
            " 11  TotalAmount  19 non-null     float64\n",
            "dtypes: float64(3), int64(1), object(8)\n",
            "memory usage: 2.0+ KB\n",
            "None\n",
            "OrderID        0\n",
            "FullName       0\n",
            "Email          0\n",
            "Phone          0\n",
            "Region         0\n",
            "City           0\n",
            "Channel        0\n",
            "Product        1\n",
            "Quantity       1\n",
            "UnitPrice      0\n",
            "OrderDate      0\n",
            "TotalAmount    1\n",
            "dtype: int64\n",
            "\n",
            "3. Описательная статистика по числовым столбцам:\n",
            "          OrderID   Quantity   UnitPrice  TotalAmount\n",
            "count    20.00000  19.000000   20.000000    19.000000\n",
            "mean   5009.50000   4.947368  449.067500  2177.940526\n",
            "std       5.91608   2.460210  221.568393  1591.100240\n",
            "min    5000.00000   1.000000  100.470000   502.350000\n",
            "25%    5004.75000   3.000000  313.932500   800.545000\n",
            "50%    5009.50000   5.000000  404.610000  1609.050000\n",
            "75%    5014.25000   7.000000  547.432500  2932.930000\n",
            "max    5019.00000   9.000000  916.150000  6264.650000\n"
          ]
        }
      ]
    },
    {
      "cell_type": "code",
      "source": [
        "#второе задание\n",
        "print(\"\\n1. Колонки FullName, Email, TotalAmount:\")\n",
        "print(df[['FullName', 'Email', 'TotalAmount']])\n",
        "\n",
        "print(\"\\n2. Заказы с суммой более 5000:\")\n",
        "filtered = df[df['TotalAmount'] > 5000]\n",
        "print(filtered)\n",
        "\n",
        "print(\"\\n3. Сколько таких заказов через канал 'Онлайн':\")\n",
        "online_filtered = filtered[filtered['Channel'] == 'Онлайн']\n",
        "print(len(online_filtered))"
      ],
      "metadata": {
        "colab": {
          "base_uri": "https://localhost:8080/"
        },
        "id": "KTfjT3juc0o0",
        "outputId": "ba7ca895-dcf4-464b-ea3d-b8ec5e6c49c9"
      },
      "execution_count": 18,
      "outputs": [
        {
          "output_type": "stream",
          "name": "stdout",
          "text": [
            "\n",
            "1. Колонки FullName, Email, TotalAmount:\n",
            "            FullName                  Email  TotalAmount\n",
            "0   Александров И.И.  aleksandrov@gmail.com       584.82\n",
            "1       Петрова А.С.      petrova@gmail.com       510.88\n",
            "2        Иванов К.А.       ivanov@gmail.com      1483.00\n",
            "3       Сидоров Л.П.      sidorov@gmail.com      3324.02\n",
            "4     Кузнецова Е.Н.   kuznetsova@gmail.com      6264.65\n",
            "5       Смирнов Д.А.      smirnov@gmail.com          NaN\n",
            "6       Фролова М.С.      frolova@gmail.com       629.64\n",
            "7      Васильев Т.Г.      vasilev@gmail.com      2944.69\n",
            "8        Орлова В.И.       orlova@gmail.com       916.15\n",
            "9       Зайцева Н.О.     zaitseva@gmail.com      1379.68\n",
            "10       Громов Ю.Б.   kuznetsova@gmail.com      2731.68\n",
            "11     Соколова К.Е.     sokolova@gmail.com       502.35\n",
            "12      Тарасов И.М.      tarasov@gmail.com      2921.17\n",
            "13      Егорова Р.Ю.      egorova@gmail.com      2620.10\n",
            "14     Михайлов С.Т.    mikhailov@gmail.com       992.76\n",
            "15        Жуков Н.А.       zhukov@gmail.com      4064.76\n",
            "16    Мельников П.И.     melnikov@gmail.com      1609.05\n",
            "17     Федорова Э.Г.     fedorova@gmail.com      4339.14\n",
            "18      Новиков Л.Д.      novikov@gmail.com       684.94\n",
            "19    Воробьева Л.Е.     vorobeva@gmail.com      2877.39\n",
            "\n",
            "2. Заказы с суммой более 5000:\n",
            "   OrderID        FullName                 Email             Phone  Region  \\\n",
            "4     5004  Кузнецова Е.Н.  kuznetsova@gmail.com  +7-900-472-33-12  Казань   \n",
            "\n",
            "           City Channel  Product  Quantity  UnitPrice   OrderDate  TotalAmount  \n",
            "4  Екатеринбург  Онлайн  Товар D       7.0     894.95  2023-12-20      6264.65  \n",
            "\n",
            "3. Сколько таких заказов через канал 'Онлайн':\n",
            "1\n"
          ]
        }
      ]
    },
    {
      "cell_type": "code",
      "source": [
        "#задание 3\n",
        "df['OrderDate'] = pd.to_datetime(df['OrderDate'], errors='coerce')\n",
        "df['Year'] = df['OrderDate'].dt.year\n",
        "df['Month'] = df['OrderDate'].dt.month\n",
        "df['Day'] = df['OrderDate'].dt.day\n",
        "\n",
        "print(\"\\n1. Заказы за декабрь 2023 года:\")\n",
        "dec_2023 = df[(df['Year'] == 2023) & (df['Month'] == 12)]\n",
        "print(dec_2023)\n",
        "\n",
        "print(\"\\n2. Кол-во заказов за последнюю неделю декабря 2023:\")\n",
        "last_week_dec = dec_2023[dec_2023['Day'] >= 25]\n",
        "print(len(last_week_dec))"
      ],
      "metadata": {
        "colab": {
          "base_uri": "https://localhost:8080/"
        },
        "id": "xOurJ89Wc0rU",
        "outputId": "5bf75663-81e6-40fb-bfe8-1b8857599b32"
      },
      "execution_count": 19,
      "outputs": [
        {
          "output_type": "stream",
          "name": "stdout",
          "text": [
            "\n",
            "1. Заказы за декабрь 2023 года:\n",
            "    OrderID          FullName                  Email             Phone  \\\n",
            "0      5000  Александров И.И.  aleksandrov@gmail.com  +7-900-202-61-24   \n",
            "1      5001      Петрова А.С.      petrova@gmail.com  +7-900-206-81-70   \n",
            "2      5002       Иванов К.А.       ivanov@gmail.com  +7-900-120-92-96   \n",
            "3      5003      Сидоров Л.П.      sidorov@gmail.com  +7-900-430-84-97   \n",
            "4      5004    Кузнецова Е.Н.   kuznetsova@gmail.com  +7-900-472-33-12   \n",
            "5      5005      Смирнов Д.А.      smirnov@gmail.com  +7-900-761-62-11   \n",
            "6      5006      Фролова М.С.      frolova@gmail.com  +7-900-443-39-47   \n",
            "7      5007     Васильев Т.Г.      vasilev@gmail.com  +7-900-485-73-69   \n",
            "8      5008       Орлова В.И.       orlova@gmail.com  +7-900-376-42-85   \n",
            "9      5009      Зайцева Н.О.     zaitseva@gmail.com  +7-900-413-31-98   \n",
            "10     5010       Громов Ю.Б.   kuznetsova@gmail.com  +7-900-660-68-51   \n",
            "11     5011     Соколова К.Е.     sokolova@gmail.com  +7-900-575-69-89   \n",
            "12     5012      Тарасов И.М.      tarasov@gmail.com  +7-900-882-71-71   \n",
            "13     5013      Егорова Р.Ю.      egorova@gmail.com  +7-900-786-71-60   \n",
            "14     5014     Михайлов С.Т.    mikhailov@gmail.com  +7-900-975-64-73   \n",
            "15     5015        Жуков Н.А.       zhukov@gmail.com  +7-900-604-12-60   \n",
            "16     5016    Мельников П.И.     melnikov@gmail.com  +7-900-746-30-82   \n",
            "17     5017     Федорова Э.Г.     fedorova@gmail.com  +7-900-266-27-13   \n",
            "18     5018      Новиков Л.Д.      novikov@gmail.com  +7-900-700-69-23   \n",
            "19     5019    Воробьева Л.Е.     vorobeva@gmail.com  +7-900-341-18-62   \n",
            "\n",
            "             Region          City Channel  Product  Quantity  UnitPrice  \\\n",
            "0   Санкт-Петербург        Казань  Офлайн  Товар D       3.0     194.94   \n",
            "1            Казань        Казань  Офлайн  Товар D       1.0     510.88   \n",
            "2            Казань        Москва  Офлайн      NaN       5.0     296.60   \n",
            "3            Казань  Екатеринбург  Онлайн  Товар A       7.0     474.86   \n",
            "4            Казань  Екатеринбург  Онлайн  Товар D       7.0     894.95   \n",
            "5      Екатеринбург           СПб  Онлайн  Товар C       9.0     391.91   \n",
            "6       Новосибирск  Екатеринбург  Онлайн  Товар C       3.0     209.88   \n",
            "7            Москва           СПб  Офлайн  Товар B       NaN     420.67   \n",
            "8            Казань        Москва  Онлайн  Товар D       1.0     916.15   \n",
            "9   Санкт-Петербург        Казань  Онлайн  Товар A       4.0     344.92   \n",
            "10           Казань        Казань  Онлайн  Товар C       4.0     682.92   \n",
            "11  Санкт-Петербург        Казань  Онлайн  Товар D       5.0     100.47   \n",
            "12  Санкт-Петербург  Екатеринбург  Онлайн  Товар D       7.0     417.31   \n",
            "13           Казань        Москва  Офлайн  Товар B       7.0     374.30   \n",
            "14     Екатеринбург  Екатеринбург  Онлайн  Товар C       4.0     248.19   \n",
            "15  Санкт-Петербург  Екатеринбург  Офлайн  Товар C       7.0     580.68   \n",
            "16  Санкт-Петербург        Москва  Онлайн  Товар A       3.0     536.35   \n",
            "17           Казань        Москва  Офлайн  Товар C       6.0     723.19   \n",
            "18  Санкт-Петербург        Москва  Онлайн  Товар A       2.0     342.47   \n",
            "19  Санкт-Петербург        Москва  Онлайн  Товар C       9.0     319.71   \n",
            "\n",
            "    OrderDate  TotalAmount  Year  Month  Day  \n",
            "0  2023-12-27       584.82  2023     12   27  \n",
            "1  2023-12-22       510.88  2023     12   22  \n",
            "2  2023-12-24      1483.00  2023     12   24  \n",
            "3  2023-12-09      3324.02  2023     12    9  \n",
            "4  2023-12-20      6264.65  2023     12   20  \n",
            "5  2023-12-17          NaN  2023     12   17  \n",
            "6  2023-12-30       629.64  2023     12   30  \n",
            "7  2023-12-17      2944.69  2023     12   17  \n",
            "8  2023-12-26       916.15  2023     12   26  \n",
            "9  2023-12-20      1379.68  2023     12   20  \n",
            "10 2023-12-12      2731.68  2023     12   12  \n",
            "11 2023-12-30       502.35  2023     12   30  \n",
            "12 2023-12-07      2921.17  2023     12    7  \n",
            "13 2023-12-02      2620.10  2023     12    2  \n",
            "14 2023-12-03       992.76  2023     12    3  \n",
            "15 2023-12-17      4064.76  2023     12   17  \n",
            "16 2023-12-05      1609.05  2023     12    5  \n",
            "17 2023-12-17      4339.14  2023     12   17  \n",
            "18 2023-12-24       684.94  2023     12   24  \n",
            "19 2023-12-17      2877.39  2023     12   17  \n",
            "\n",
            "2. Кол-во заказов за последнюю неделю декабря 2023:\n",
            "4\n"
          ]
        }
      ]
    },
    {
      "cell_type": "code",
      "source": [
        "#задание 4\n",
        "print(\"\\n1. Кол-во заказов по регионам:\")\n",
        "print(df['Region'].value_counts())\n",
        "\n",
        "print(\"\\n2. Средняя сумма заказа по каждому городу:\")\n",
        "print(df.groupby('City')['TotalAmount'].mean())\n",
        "\n",
        "print(\"\\n3. Сводная таблица: сумма заказов по Region и Channel:\")\n",
        "print(pd.pivot_table(df, values='TotalAmount', index='Region', columns='Channel', aggfunc='sum'))"
      ],
      "metadata": {
        "colab": {
          "base_uri": "https://localhost:8080/"
        },
        "id": "TBsW5N2nc0tu",
        "outputId": "5cd9dccf-1f2a-4380-a2f1-532d8282a42e"
      },
      "execution_count": 20,
      "outputs": [
        {
          "output_type": "stream",
          "name": "stdout",
          "text": [
            "\n",
            "1. Кол-во заказов по регионам:\n",
            "Region\n",
            "Санкт-Петербург    8\n",
            "Казань             8\n",
            "Екатеринбург       2\n",
            "Новосибирск        1\n",
            "Москва             1\n",
            "Name: count, dtype: int64\n",
            "\n",
            "2. Средняя сумма заказа по каждому городу:\n",
            "City\n",
            "Екатеринбург    3032.833333\n",
            "Казань          1141.882000\n",
            "Москва          2075.681429\n",
            "СПб             2944.690000\n",
            "Name: TotalAmount, dtype: float64\n",
            "\n",
            "3. Сводная таблица: сумма заказов по Region и Channel:\n",
            "Channel            Онлайн   Офлайн\n",
            "Region                            \n",
            "Екатеринбург       992.76      NaN\n",
            "Казань           13236.50  8953.12\n",
            "Москва                NaN  2944.69\n",
            "Новосибирск        629.64      NaN\n",
            "Санкт-Петербург   9974.58  4649.58\n"
          ]
        }
      ]
    },
    {
      "cell_type": "code",
      "source": [
        "#задание 5\n",
        "print(\"\\n1. Пропущенные значения:\")\n",
        "print(df[['Product', 'Quantity', 'TotalAmount']].isnull().sum())\n",
        "\n",
        "print(\"\\n2. Заполнение Product наиболее частым значением:\")\n",
        "most_common_product = df['Product'].mode()[0]\n",
        "df['Product'] = df['Product'].fillna(most_common_product)\n",
        "\n",
        "print(\"\\n3. Заполнение Quantity и TotalAmount средними:\")\n",
        "df['Quantity'] = df['Quantity'].fillna(df['Quantity'].mean())\n",
        "df['TotalAmount'] = df['TotalAmount'].fillna(df['TotalAmount'].mean())"
      ],
      "metadata": {
        "colab": {
          "base_uri": "https://localhost:8080/"
        },
        "id": "PSNDPan2c0v8",
        "outputId": "26fef591-b882-4a21-8548-b0c72423d87b"
      },
      "execution_count": 21,
      "outputs": [
        {
          "output_type": "stream",
          "name": "stdout",
          "text": [
            "\n",
            "1. Пропущенные значения:\n",
            "Product        1\n",
            "Quantity       1\n",
            "TotalAmount    1\n",
            "dtype: int64\n",
            "\n",
            "2. Заполнение Product наиболее частым значением:\n",
            "\n",
            "3. Заполнение Quantity и TotalAmount средними:\n"
          ]
        }
      ]
    },
    {
      "cell_type": "code",
      "source": [
        "#задание 6\n",
        "df['CalculatedTotal'] = (df['Quantity'] * df['UnitPrice']).round(2)\n",
        "mismatch = df[np.round(df['TotalAmount'], 2) != df['CalculatedTotal']]\n",
        "\n",
        "print(\"\\n1. Строки с расхождением TotalAmount и Quantity*UnitPrice:\")\n",
        "print(mismatch)\n",
        "\n",
        "print(\"\\n2. Удаление этих строк:\")\n",
        "df = df.drop(mismatch.index)\n",
        "df.drop(columns='CalculatedTotal', inplace=True)"
      ],
      "metadata": {
        "colab": {
          "base_uri": "https://localhost:8080/"
        },
        "id": "ASKUq5DAc0yF",
        "outputId": "d35e152f-332b-41b5-c015-c53f897d905a"
      },
      "execution_count": 22,
      "outputs": [
        {
          "output_type": "stream",
          "name": "stdout",
          "text": [
            "\n",
            "1. Строки с расхождением TotalAmount и Quantity*UnitPrice:\n",
            "   OrderID       FullName              Email             Phone        Region  \\\n",
            "5     5005   Смирнов Д.А.  smirnov@gmail.com  +7-900-761-62-11  Екатеринбург   \n",
            "7     5007  Васильев Т.Г.  vasilev@gmail.com  +7-900-485-73-69        Москва   \n",
            "\n",
            "  City Channel  Product  Quantity  UnitPrice  OrderDate  TotalAmount  Year  \\\n",
            "5  СПб  Онлайн  Товар C  9.000000     391.91 2023-12-17  2177.940526  2023   \n",
            "7  СПб  Офлайн  Товар B  4.947368     420.67 2023-12-17  2944.690000  2023   \n",
            "\n",
            "   Month  Day  CalculatedTotal  \n",
            "5     12   17          3527.19  \n",
            "7     12   17          2081.21  \n",
            "\n",
            "2. Удаление этих строк:\n"
          ]
        }
      ]
    },
    {
      "cell_type": "code",
      "source": [
        "#задание 7 дубликаты\n",
        "print(\"\\n1. Дубликаты по Email:\")\n",
        "print(df.duplicated('Email').sum())\n",
        "\n",
        "print(\"\\n2. Удаление дубликатов:\")\n",
        "df = df.drop_duplicates(subset='Email')"
      ],
      "metadata": {
        "colab": {
          "base_uri": "https://localhost:8080/"
        },
        "id": "b57LgscJc00t",
        "outputId": "c5490063-e63e-4e00-9804-b5655f894cec"
      },
      "execution_count": 23,
      "outputs": [
        {
          "output_type": "stream",
          "name": "stdout",
          "text": [
            "\n",
            "1. Дубликаты по Email:\n",
            "1\n",
            "\n",
            "2. Удаление дубликатов:\n"
          ]
        }
      ]
    },
    {
      "cell_type": "code",
      "source": [
        "#задание в8\n",
        "print(\"\\n1. Добавление новой строки заказа:\")\n",
        "new_row = {\n",
        "    \"OrderID\": 9999,\n",
        "    \"FullName\": \"Андреев П.П.\",\n",
        "    \"Email\": \"andreev@gmail.com\",\n",
        "    \"Phone\": \"+7-900-000-00-00\",\n",
        "    \"Region\": \"Москва\",\n",
        "    \"City\": \"Москва\",\n",
        "    \"Channel\": \"Онлайн\",\n",
        "    \"Product\": \"Товар A\",\n",
        "    \"Quantity\": 1,\n",
        "    \"UnitPrice\": 9000,\n",
        "    \"TotalAmount\": 9000,\n",
        "    \"OrderDate\": pd.to_datetime(\"2023-12-29\"),\n",
        "    \"Year\": 2023,\n",
        "    \"Month\": 12,\n",
        "    \"Day\": 29\n",
        "}\n",
        "df = pd.concat([df, pd.DataFrame([new_row])], ignore_index=True)\n",
        "\n",
        "print(\"\\n2. Изменение email у OrderID == 5004:\")\n",
        "df.loc[df['OrderID'] == 5004, 'Email'] = 'new_email@mail.ru'"
      ],
      "metadata": {
        "colab": {
          "base_uri": "https://localhost:8080/"
        },
        "id": "FkVAws9kc04J",
        "outputId": "d237d088-3888-478e-d7de-22a1efb908eb"
      },
      "execution_count": 24,
      "outputs": [
        {
          "output_type": "stream",
          "name": "stdout",
          "text": [
            "\n",
            "1. Добавление новой строки заказа:\n",
            "\n",
            "2. Изменение email у OrderID == 5004:\n"
          ]
        }
      ]
    },
    {
      "cell_type": "code",
      "source": [
        "#задание 9\n",
        "df.to_csv('orders_cleaned.csv', index=False, encoding='utf-8')\n",
        "df.to_excel('orders_cleaned.xlsx', index=False)"
      ],
      "metadata": {
        "id": "4UQ9TH7Yc-pg"
      },
      "execution_count": 25,
      "outputs": []
    },
    {
      "cell_type": "code",
      "source": [],
      "metadata": {
        "id": "Wt6NuSazc-r1"
      },
      "execution_count": null,
      "outputs": []
    }
  ]
}